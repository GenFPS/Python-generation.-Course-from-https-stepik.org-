{
  "nbformat": 4,
  "nbformat_minor": 0,
  "metadata": {
    "colab": {
      "name": "Раздел 6.ipynb",
      "provenance": [],
      "toc_visible": true,
      "authorship_tag": "ABX9TyOezXBboZTlKxseHTaYh6L5",
      "include_colab_link": true
    },
    "kernelspec": {
      "name": "python3",
      "display_name": "Python 3"
    },
    "language_info": {
      "name": "python"
    }
  },
  "cells": [
    {
      "cell_type": "markdown",
      "metadata": {
        "id": "view-in-github",
        "colab_type": "text"
      },
      "source": [
        "<a href=\"https://colab.research.google.com/github/GenFPS/Python-generation.-Course-from-https-stepik.org-/blob/main/%D0%A0%D0%B0%D0%B7%D0%B4%D0%B5%D0%BB_6.ipynb\" target=\"_parent\"><img src=\"https://colab.research.google.com/assets/colab-badge.svg\" alt=\"Open In Colab\"/></a>"
      ]
    },
    {
      "cell_type": "markdown",
      "source": [
        "# 6 Типы данных"
      ],
      "metadata": {
        "id": "bFn7O5L9Bk4l"
      }
    },
    {
      "cell_type": "markdown",
      "source": [
        "## 6.1 Числовые типы данных"
      ],
      "metadata": {
        "id": "yeTBJZ4zBy6i"
      }
    },
    {
      "cell_type": "markdown",
      "source": [
        "### **Интересное число**\n",
        "\n",
        "Назовем число интересным, если в нем разность максимальной и минимальной цифры равняется средней по величине цифре. Напишите программу, которая определяет интересное число или нет. Если число интересное, следует вывести – «Число интересное» иначе «Число неинтересное».\n",
        "\n",
        "**Формат входных данных.**\n",
        "\n",
        "На вход программе подается целое трехзначное число\n",
        "\n",
        "**Формат выходных данных.**\n",
        "\n",
        "Программа должна вывести текст в соответствии с условием задачи.\n",
        "\n",
        "\n",
        "---\n",
        "\n",
        "\n",
        "Sample Input 1:\n",
        "\n",
        "945\n",
        "\n",
        "\n",
        "---\n",
        "\n",
        "\n",
        "Sample Output 1:\n",
        "\n",
        "Число интересное\n",
        "\n",
        "\n",
        "---\n",
        "Sample Input 2: \n",
        "\n",
        "123\n",
        "\n",
        "\n",
        "---\n",
        "\n",
        "Sample Output 2: \n",
        "\n",
        "Число интересное\n",
        "\n",
        "\n",
        "---\n",
        "\n",
        "Sample Input 3: \n",
        "\n",
        "896\n",
        "\n",
        "---\n",
        "Sample Output 3: \n",
        "\n",
        "Число неинтересное\n",
        "\n"
      ],
      "metadata": {
        "id": "YW49WJ58Ca3z"
      }
    },
    {
      "cell_type": "code",
      "execution_count": null,
      "metadata": {
        "id": "ouzI7ySW9wZg"
      },
      "outputs": [],
      "source": [
        "number = input()\n",
        "\n",
        "number_list = [int(i) for i in number]\n",
        "sorted_number_list = sorted(number_list)\n",
        "\n",
        "if max(number_list) - min(number_list) == sorted_number_list[1]:\n",
        "    print('Число интересное')\n",
        "else:\n",
        "    print('Число неинтересное')"
      ]
    },
    {
      "cell_type": "markdown",
      "source": [
        "## 6.2 Строковый тип данных\n"
      ],
      "metadata": {
        "id": "W5-mWLGIFbO7"
      }
    },
    {
      "cell_type": "markdown",
      "source": [
        "### **Три города**\n",
        "\n",
        "Даны названия трех городов. Напишите программу, которая определяет самое короткое и самое длинное название города.\n",
        "\n",
        "**Формат входных данных.** На вход программе подаётся названия трех городов, каждое на отдельной строке.\n",
        "\n",
        "**Формат выходных данных**\n",
        "\n",
        "Программа должна вывести самое короткое и длинное название города, каждое на отдельной строке.\n",
        "\n",
        "**Примечание** Гарантируется, что длины названий всех трех городов различны.\n",
        "\n",
        "\n",
        "---\n",
        "**Sample Input 1:**\n",
        "\n",
        "Москва\n",
        "\n",
        "Санкт-петербург\n",
        "\n",
        "Екатеринбург\n",
        "\n",
        "\n",
        "---\n",
        "**Sample Output 1:**\n",
        "\n",
        "Москва\n",
        "\n",
        "Санкт-Петербург\n",
        "\n",
        "\n",
        "---\n",
        "**Sample Input 2:**\n",
        "\n",
        "Нью-Йорк\n",
        "\n",
        "Вашингтон\n",
        "\n",
        "Чикаго\n",
        "\n",
        "\n",
        "---\n",
        "**Sample Output 2:**\n",
        "\n",
        "Чикаго\n",
        "\n",
        "Вашингтон\n",
        "\n",
        "\n",
        "---\n",
        "**Sample Input 3:**\n",
        "\n",
        "Париж\n",
        "\n",
        "Марсель\n",
        "\n",
        "Лион\n",
        "\n",
        "---\n",
        "**Sample Output 3:**\n",
        "\n",
        "Лион\n",
        "\n",
        "Марсель\n"
      ],
      "metadata": {
        "id": "L-3M4QfxFjUH"
      }
    },
    {
      "cell_type": "code",
      "source": [
        "city_1 = input()\n",
        "city_2 = input()\n",
        "city_3 = input()\n",
        "\n",
        "cities = {'1': city_1, '2': city_2, '3': city_3}\n",
        "sorted_cities = sorted(cities.values(), key=len)\n",
        "\n",
        "print(sorted_cities[0], sorted_cities[2], sep='\\n')"
      ],
      "metadata": {
        "id": "N6wQBZWtHw9f"
      },
      "execution_count": null,
      "outputs": []
    },
    {
      "cell_type": "markdown",
      "source": [
        "### **Арифметические строки**\n",
        "\n",
        "Вводятся 3 строки в случайном порядке. Напишите программу, которая выясняет можно ли из длин этих строк построить возрастающую арифметическую прогрессию.\n",
        "\n",
        "**Формат входных данных.**\n",
        "\n",
        "На вход программе подаются три строки, каждая на отдельной строке.\n",
        "\n",
        "**Формат выходных данных.***\n",
        "\n",
        "Пограмма должна вывести строку «YES», если из длин введенных слов можно построить арифметическую прогрессию, «NO» в ином случае.\n",
        "\n",
        "\n",
        "\n",
        "---\n",
        "**Sample Input 1:**\n",
        "\n",
        "abc\n",
        "\n",
        "a\n",
        "\n",
        "abcde\n",
        "\n",
        "---\n",
        "**Sample Output 1:**\n",
        "\n",
        "YES\n",
        "\n",
        "---\n",
        "**Sample Input 2:**\n",
        "2434\n",
        "\n",
        "90099\n",
        "\n",
        "21\n",
        "\n",
        "---\n",
        "**Sample Output 2:**\n",
        "\n",
        "NO\n",
        "\n",
        "---\n",
        "\n",
        "**Sample Input 3:**\n",
        "\n",
        "aaaaaaaaaa10\n",
        "\n",
        "1111111Nm\n",
        "\n",
        "22222r\n",
        "\n",
        "---\n",
        "**Sample Output 3:**\n",
        "\n",
        "YES\n",
        "\n"
      ],
      "metadata": {
        "id": "2PoLP3DfIJAV"
      }
    },
    {
      "cell_type": "code",
      "source": [
        "a = len(input())\n",
        "b = len(input())\n",
        "c = len(input())\n",
        "\n",
        "numbers = [a, b, c]\n",
        "s_numbers = sorted(numbers)\n",
        "if s_numbers[2] - s_numbers[1] == s_numbers[1] - s_numbers[0]:\n",
        "    print('YES')\n",
        "else:\n",
        "    print('NO')"
      ],
      "metadata": {
        "id": "4mVKsOdwJKcf"
      },
      "execution_count": null,
      "outputs": []
    },
    {
      "cell_type": "markdown",
      "source": [
        "## 6.3 Модуль math"
      ],
      "metadata": {
        "id": "njizaxqqLXur"
      }
    },
    {
      "cell_type": "markdown",
      "source": [
        "### Квадратное уравнение\n",
        "\n",
        "Даны три вещественных числа aa, bb, cc. Напишите программу, которая находит вещественные корни квадратного уравнения:\n",
        "\n",
        "      ax**2 + bx + c = 0.\n",
        "\n",
        "**Формат входных данных.**\n",
        "\n",
        "На вход программе подается три вещественных числа a != 0, b, c, каждое на отдельной строке.\n",
        "\n",
        "**Формат выходных данных.**\n",
        "\n",
        "Программа должна вывести вещественные корни уравнения если они существуют или текст «Нет корней» в противном случае.\n",
        "\n",
        "**Примечание.** Если уравнение имеет два корня, то следует вывести их в порядке возрастания.\n",
        "\n",
        "\n",
        "---\n",
        "**Sample Input 1:**\n",
        "\n",
        "1\n",
        "\n",
        "2\n",
        "\n",
        "1\n",
        "\n",
        "\n",
        "---\n",
        "**Sample Output 1:**\n",
        "\n",
        "-1.0\n",
        "\n",
        "---\n",
        "**Sample Input 2:**\n",
        "\n",
        "1\n",
        "\n",
        "-7.5\n",
        "\n",
        "3\n",
        "\n",
        "\n",
        "---\n",
        "**Sample Output 2:**\n",
        "\n",
        "0.4239663260874824\n",
        "\n",
        "7.076033673912518"
      ],
      "metadata": {
        "id": "zgmcCckQLtos"
      }
    },
    {
      "cell_type": "code",
      "source": [
        "from math import *\n",
        "\n",
        "a, b, c = [float(input()) for _ in range(3)]\n",
        "\n",
        "D = (b ** 2) - 4 * (a * c)\n",
        "\n",
        "if D > 0:\n",
        "    x_1 = (-b + sqrt(D)) / (2 * a)\n",
        "    x_2 = (-b - sqrt(D)) / (2 * a)\n",
        "    print(min(x_1, x_2), max(x_1, x_2), sep='\\n')\n",
        "elif D == 0:\n",
        "    x_1 = -b / (2 * a)\n",
        "    print(x_1)\n",
        "else:\n",
        "    print('Нет корней')"
      ],
      "metadata": {
        "id": "6tjwCTXBLgmk"
      },
      "execution_count": null,
      "outputs": []
    }
  ]
}