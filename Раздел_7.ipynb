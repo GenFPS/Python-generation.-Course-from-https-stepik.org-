{
  "nbformat": 4,
  "nbformat_minor": 0,
  "metadata": {
    "colab": {
      "name": "Раздел 7.ipynb",
      "provenance": [],
      "toc_visible": true,
      "authorship_tag": "ABX9TyO+1b3h5nD+u7ucdstUpScO",
      "include_colab_link": true
    },
    "kernelspec": {
      "name": "python3",
      "display_name": "Python 3"
    },
    "language_info": {
      "name": "python"
    }
  },
  "cells": [
    {
      "cell_type": "markdown",
      "metadata": {
        "id": "view-in-github",
        "colab_type": "text"
      },
      "source": [
        "<a href=\"https://colab.research.google.com/github/GenFPS/Python-generation.-Course-from-https-stepik.org-/blob/main/%D0%A0%D0%B0%D0%B7%D0%B4%D0%B5%D0%BB_7.ipynb\" target=\"_parent\"><img src=\"https://colab.research.google.com/assets/colab-badge.svg\" alt=\"Open In Colab\"/></a>"
      ]
    },
    {
      "cell_type": "markdown",
      "source": [
        "# Циклы for и while"
      ],
      "metadata": {
        "id": "yb_ltWz6tGmV"
      }
    },
    {
      "cell_type": "markdown",
      "source": [
        "## 7.3 Частые сценарии"
      ],
      "metadata": {
        "id": "_v2VgJLFtE4_"
      }
    },
    {
      "cell_type": "markdown",
      "source": [
        "### Наибольшие числа\n",
        "На вход программе подается натуральное число nn, а затем nn различных натуральных чисел, каждое на отдельной строке. Напишите программу, которая выводит наибольшее и второе наибольшее число последовательности.\n",
        "\n",
        "**Формат входных данных.** \n",
        "\n",
        "На вход программе подаются натуральное число n >= 2, а затем n разлчиных натуральных чисел, каждое на отдельной строке.\n",
        "\n",
        "**Формат выходных данных.**\n",
        "\n",
        "Программа должна вывести два наибольших числа, каждое на отдельной строке.\n",
        "\n",
        "\n",
        "\n",
        "---\n",
        "Sample Input 1:\n",
        "\n",
        "5\n",
        "\n",
        "1\n",
        "\n",
        "2\n",
        "\n",
        "3\n",
        "\n",
        "4\n",
        "\n",
        "5\n",
        "\n",
        "\n",
        "---\n",
        "\n",
        "Sample Output 1:\n",
        "\n",
        "5\n",
        "\n",
        "4"
      ],
      "metadata": {
        "id": "NKEPmUW-tS22"
      }
    },
    {
      "cell_type": "code",
      "execution_count": null,
      "metadata": {
        "id": "bWBKm-BSsKyF"
      },
      "outputs": [],
      "source": [
        "n = int(input())\n",
        "numbers = []\n",
        "\n",
        "for i in range(n):\n",
        "    x = int(input())\n",
        "    numbers_1 = numbers.append(x)\n",
        "\n",
        "numbers_2 = sorted(numbers)\n",
        "\n",
        "print(numbers_2[-1], numbers_2[-2], sep='\\n')"
      ]
    },
    {
      "cell_type": "markdown",
      "source": [
        "### Only even numbers\n",
        "\n",
        "Напишите программу, которая считывает последовательность из 10 целых чисел и определяет является ли каждое из них четным или нет.\n",
        "\n",
        "**Формат входных данных**\n",
        "\n",
        "На вход программе подаются 10 целых чисел, каждое на отдельной строке.\n",
        "\n",
        "**Формат выходных данных.**\n",
        "\n",
        "Программа должна вывести строку «YES», если все числа четные и «NO» в ином случае.\n",
        "\n",
        "\n",
        "---\n",
        "**Sample Input 1:**\n",
        "\n",
        "2\n",
        "\n",
        "4\n",
        "\n",
        "6\n",
        "\n",
        "8\n",
        "\n",
        "10\n",
        "\n",
        "12\n",
        "\n",
        "14\n",
        "\n",
        "16\n",
        "\n",
        "18\n",
        "\n",
        "20\n",
        "\n",
        "\n",
        "---\n",
        "**Sample Output 1:**\n",
        "\n",
        "YES\n",
        "\n",
        "\n",
        "---\n",
        "**Sample Input 2:**\n",
        "\n",
        "1\n",
        "\n",
        "2\n",
        "\n",
        "3\n",
        "\n",
        "4\n",
        "\n",
        "5\n",
        "\n",
        "6\n",
        "\n",
        "7\n",
        "\n",
        "8\n",
        "\n",
        "9\n",
        "\n",
        "10\n",
        "\n",
        "\n",
        "---\n",
        "Sample Output 2:\n",
        "\n",
        "NO\n"
      ],
      "metadata": {
        "id": "d1hVklyjuTBZ"
      }
    },
    {
      "cell_type": "code",
      "source": [
        "flag = True\n",
        "\n",
        "for i in range(10):\n",
        "    n = int(input())\n",
        "    if n % 2 == 0:\n",
        "        flag = False\n",
        "    else:\n",
        "        if n % 2 != 0:\n",
        "            flag = True\n",
        "            break\n",
        "\n",
        "if flag == False:\n",
        "    print('YES')\n",
        "else:\n",
        "    print('NO')"
      ],
      "metadata": {
        "id": "Fcyxj7SmuPrh"
      },
      "execution_count": null,
      "outputs": []
    },
    {
      "cell_type": "markdown",
      "source": [
        "### Последовательность Фибоначчи\n",
        "\n",
        "Напишите программу, которая считывает натуральное число nn и выводит первые nn чисел последовательности Фибоначчи.\n",
        "\n",
        "**Формат входных данных.**\n",
        "\n",
        "На вход программе подается одно число n (n ≤ 100) – количество членов последовательности.\n",
        "\n",
        "**Формат выходных данных.**\n",
        "\n",
        "Программа должна вывести члены последовательности Фибоначчи, отделенные символом пробела.\n",
        "\n",
        "**Примечание.** Последовательность Фибоначчи – это последовательность натуральных чисел, где каждое последующее число является суммой двух предыдущих:\n",
        "1, 1, 2, 3, 5, 8, 13,  21, 34, 55, 89, …\n",
        "\n",
        "\n",
        "---\n",
        "**Sample Input 1:**\n",
        "\n",
        "1\n",
        "\n",
        "\n",
        "---\n",
        "\n",
        "**Sample Output 1:**\n",
        "\n",
        "1\n",
        "\n",
        "---\n",
        "**Sample Input 2:**\n",
        "\n",
        "5\n",
        "\n",
        "\n",
        "---\n",
        "\n",
        "**Sample Output 2:**\n",
        "\n",
        "1 1 2 3 5\n"
      ],
      "metadata": {
        "id": "wiKy2hqWu8CQ"
      }
    },
    {
      "cell_type": "code",
      "source": [
        "n = int(input())\n",
        "First_num = 0\n",
        "Second_num = 1\n",
        "\n",
        "for i in range(1, n+1):\n",
        "    if i <= 1:\n",
        "        next = i\n",
        "    else:\n",
        "        next = First_num + Second_num\n",
        "        First_num = Second_num\n",
        "        Second_num = next\n",
        "    print(next, end=' ')"
      ],
      "metadata": {
        "id": "295MJqSgu8VX"
      },
      "execution_count": null,
      "outputs": []
    }
  ]
}